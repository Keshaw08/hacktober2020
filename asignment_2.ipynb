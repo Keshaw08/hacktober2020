{
 "cells": [
  {
   "cell_type": "code",
   "execution_count": 10,
   "metadata": {},
   "outputs": [
    {
     "name": "stdout",
     "output_type": "stream",
     "text": [
      "length = 5\n",
      "breadth = 6\n",
      "it is a rectangle\n"
     ]
    }
   ],
   "source": [
    "#Q1\n",
    "l = int(input(\"length = \"))\n",
    "b = int(input(\"breadth = \"))\n",
    "if(l==b):\n",
    "    print(\"it is a square\")\n",
    "else:\n",
    "    print(\"it is a rectangle\")"
   ]
  },
  {
   "cell_type": "code",
   "execution_count": 11,
   "metadata": {},
   "outputs": [
    {
     "name": "stdout",
     "output_type": "stream",
     "text": [
      "no1 85\n",
      "no2 56\n",
      "greater no. is a\n"
     ]
    }
   ],
   "source": [
    "# Q2\n",
    "a = int(input(\"no1 \"))\n",
    "b = int(input(\"no2 \"))\n",
    "if(a>b):\n",
    "    print(\"greater no. is a\")\n",
    "elif(b>a):\n",
    "    print(\"greater no. is b\")"
   ]
  },
  {
   "cell_type": "code",
   "execution_count": 16,
   "metadata": {},
   "outputs": [
    {
     "name": "stdout",
     "output_type": "stream",
     "text": [
      "whats the quantity = 5\n",
      "500\n"
     ]
    }
   ],
   "source": [
    "#Q3\n",
    "quantity = int(input(\"whats the quantity = \"))\n",
    "cost = 100*quantity\n",
    "if(cost > 1000):\n",
    "    print(cost/10)\n",
    "else:\n",
    "    print(cost)"
   ]
  },
  {
   "cell_type": "code",
   "execution_count": 17,
   "metadata": {},
   "outputs": [
    {
     "name": "stdout",
     "output_type": "stream",
     "text": [
      "How many years you have been for = 6\n",
      "How much is your salary = 1000\n",
      "1050.0\n"
     ]
    }
   ],
   "source": [
    "#Q4\n",
    "year = int(input(\"How many years you have been for = \"))\n",
    "salary = int(input(\"How much is your salary = \"))\n",
    "if(year > 5):\n",
    "    print(salary + salary/20)\n",
    "else: \n",
    "    print(salary)"
   ]
  },
  {
   "cell_type": "code",
   "execution_count": 18,
   "metadata": {},
   "outputs": [
    {
     "name": "stdout",
     "output_type": "stream",
     "text": [
      "How much is your marks = 75\n",
      "B\n"
     ]
    }
   ],
   "source": [
    "#Q5\n",
    "marks = int(input(\"How much is your marks = \"))\n",
    "if(marks < 25):\n",
    "    print(\"F\")\n",
    "elif(marks > 25 and marks < 45):\n",
    "    print(\"E\")\n",
    "elif(marks > 45 and marks < 50):\n",
    "    print(\"D\")\n",
    "elif(marks > 50 and marks < 60):\n",
    "    print(\"C\")\n",
    "elif(marks > 60 and marks < 80):\n",
    "    print(\"B\")\n",
    "elif(marks > 80):\n",
    "    print(\"A\")"
   ]
  },
  {
   "cell_type": "code",
   "execution_count": 23,
   "metadata": {},
   "outputs": [
    {
     "name": "stdout",
     "output_type": "stream",
     "text": [
      "What is your age1 = 18\n",
      "What is your age2 = 45\n",
      "What is your age3 = 66\n",
      "Youngest\n",
      "Mid Aged\n",
      "Oldest\n"
     ]
    }
   ],
   "source": [
    "#Q6\n",
    "age1 = int(input(\"What is your age1 = \"))\n",
    "age2 = int(input(\"What is your age2 = \"))\n",
    "age3 = int(input(\"What is your age3 = \"))\n",
    "if(age1 < 30 or age2 < 30 or age3 < 30):\n",
    "    print(\"Youngest\")\n",
    "if((age1 > 30 and age1 < 60) or (age2 > 30 and age2 < 60) or (age2 > 30 and age2 < 60)):\n",
    "    print(\"Mid Aged\")\n",
    "if(age1 > 60 or age2 > 60 or age3 > 60 ):\n",
    "    print(\"Oldest\")"
   ]
  },
  {
   "cell_type": "code",
   "execution_count": 27,
   "metadata": {},
   "outputs": [
    {
     "name": "stdout",
     "output_type": "stream",
     "text": [
      "How many classes held = 4\n",
      "How many classes attended = 2\n",
      "You are not allowed to sit in the exam\n"
     ]
    }
   ],
   "source": [
    "#Q8\n",
    "classes_held = int(input(\"How many classes held = \"))\n",
    "classes_attended = int(input(\"How many classes attended = \"))\n",
    "attendence = (classes_attended/classes_held)*100\n",
    "if(attendence < 75 ):\n",
    "    print(\"You are not allowed to sit in the exam\")"
   ]
  },
  {
   "cell_type": "code",
   "execution_count": 36,
   "metadata": {},
   "outputs": [
    {
     "name": "stdout",
     "output_type": "stream",
     "text": [
      "How many classes held = 4\n",
      "How many classes attended = 2\n",
      "You are allowed to sit in the exam\n"
     ]
    }
   ],
   "source": [
    "#Q9\n",
    "classes_held = int(input(\"How many classes held = \"))\n",
    "classes_attended = int(input(\"How many classes attended = \"))\n",
    "attendence = (classes_attended/classes_held)*100\n",
    "medical = 1\n",
    "if(attendence < 75 and medical == 1 ):\n",
    "    print(\"You are allowed to sit in the exam\")\n",
    "else:\n",
    "    print(\"You are not allowed to sit in the exam\")"
   ]
  },
  {
   "cell_type": "code",
   "execution_count": null,
   "metadata": {},
   "outputs": [],
   "source": []
  },
  {
   "cell_type": "code",
   "execution_count": null,
   "metadata": {},
   "outputs": [],
   "source": []
  }
 ],
 "metadata": {
  "kernelspec": {
   "display_name": "Python 3",
   "language": "python",
   "name": "python3"
  },
  "language_info": {
   "codemirror_mode": {
    "name": "ipython",
    "version": 3
   },
   "file_extension": ".py",
   "mimetype": "text/x-python",
   "name": "python",
   "nbconvert_exporter": "python",
   "pygments_lexer": "ipython3",
   "version": "3.8.3"
  }
 },
 "nbformat": 4,
 "nbformat_minor": 4
}
